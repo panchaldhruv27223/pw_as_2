{
 "cells": [
  {
   "cell_type": "markdown",
   "id": "98eb0c69",
   "metadata": {},
   "source": [
    "Q1. How do you comment code in Python? What are the different types of comments?"
   ]
  },
  {
   "cell_type": "code",
   "execution_count": null,
   "id": "a95934c5",
   "metadata": {},
   "outputs": [],
   "source": [
    "in python we use comment to make our code readable\n",
    "\n",
    "there are two types of comments in python :\n",
    "    1.  for a single line comment use this  -->  # \n",
    "    2. for multiple line we use -->  \"\"\" ... \"\"\"  \n",
    "    "
   ]
  },
  {
   "cell_type": "code",
   "execution_count": null,
   "id": "0f111de2",
   "metadata": {},
   "outputs": [],
   "source": [
    "# this is a single line comment \n",
    "\n",
    "\n",
    "\"\"\"\n",
    "this is a \n",
    "multi line \n",
    "comment \n",
    "\"\"\"\n"
   ]
  },
  {
   "cell_type": "markdown",
   "id": "b1303f7c",
   "metadata": {},
   "source": [
    "Q2. What are variables in Python? How do you declare and assign values to variables?"
   ]
  },
  {
   "cell_type": "code",
   "execution_count": null,
   "id": "391c5c8b",
   "metadata": {},
   "outputs": [],
   "source": [
    "variables are used to store our information like numbers , numbers of charector\n",
    "\n",
    "in python we use assigment operator to assign value to the variable "
   ]
  },
  {
   "cell_type": "code",
   "execution_count": 20,
   "id": "4e4766f7",
   "metadata": {},
   "outputs": [
    {
     "name": "stdout",
     "output_type": "stream",
     "text": [
      "5\n"
     ]
    }
   ],
   "source": [
    "#  a is our variable \n",
    "#  we --> = symbol to aasign value to the variable \n",
    "a = 5\n",
    "print(a)"
   ]
  },
  {
   "cell_type": "markdown",
   "id": "5d095cb9",
   "metadata": {},
   "source": [
    "Q3. How do you convert one data type to another in Python?"
   ]
  },
  {
   "cell_type": "code",
   "execution_count": null,
   "id": "bcb697d5",
   "metadata": {},
   "outputs": [],
   "source": [
    "to change type of the data we use in-bult function for type casting in python \n",
    "like :\n",
    "a = 10 "
   ]
  },
  {
   "cell_type": "code",
   "execution_count": 21,
   "id": "15aeb6fd",
   "metadata": {},
   "outputs": [
    {
     "name": "stdout",
     "output_type": "stream",
     "text": [
      "10 <class 'int'>\n",
      "10.0 <class 'float'>\n",
      "10 <class 'str'>\n"
     ]
    }
   ],
   "source": [
    "a = 10\n",
    "print(a,type(a))\n",
    "\n",
    "b = float(a)\n",
    "print(b, type(b))\n",
    "\n",
    "c= str(a)\n",
    "print(c,type(c))\n",
    "\n",
    "\n",
    "#  int()  , float()  , str()  this type of in built function are used for type casting "
   ]
  },
  {
   "cell_type": "markdown",
   "id": "b32be874",
   "metadata": {},
   "source": [
    "Q4. How do you write and execute a Python script from the command line?"
   ]
  },
  {
   "cell_type": "code",
   "execution_count": null,
   "id": "60ff50b5",
   "metadata": {},
   "outputs": [],
   "source": [
    "\n",
    "first : \n",
    "    open windows powershell\n",
    "    write python and enter\n",
    "    now you are in python\n",
    "    simply write any python code or scipt \n",
    "    it execute line by line \n",
    "    this can not store \n",
    "    that`s why we store code in file with .py extention"
   ]
  },
  {
   "cell_type": "markdown",
   "id": "d6241821",
   "metadata": {},
   "source": [
    "Q5. Given a list my_list = [1, 2, 3, 4, 5], write the code to slice the list and obtain the sub-list [2, 3]."
   ]
  },
  {
   "cell_type": "code",
   "execution_count": 23,
   "id": "eb4cb769",
   "metadata": {},
   "outputs": [],
   "source": [
    "my_list = [1, 2, 3, 4, 5]"
   ]
  },
  {
   "cell_type": "code",
   "execution_count": 24,
   "id": "436a2c13",
   "metadata": {},
   "outputs": [
    {
     "name": "stdout",
     "output_type": "stream",
     "text": [
      "[2, 3]\n"
     ]
    }
   ],
   "source": [
    "sub_list = my_list[1:3]\n",
    "print(sub_list)"
   ]
  },
  {
   "cell_type": "markdown",
   "id": "8ccbf5f9",
   "metadata": {},
   "source": [
    "Q6. What is a complex number in mathematics, and how is it represented in Python?"
   ]
  },
  {
   "cell_type": "code",
   "execution_count": null,
   "id": "65ea29e9",
   "metadata": {},
   "outputs": [],
   "source": [
    "complex number in maths are writen as this formate  : a + ib \n",
    "    where the part that contain i is called imaginary part \n",
    "    and other part is called real part\n",
    "    \n",
    "    i is called as iota  i**2 = -1\n",
    "    \n",
    "    \n",
    "in python complex number are writen as  a+bj\n",
    "\n",
    "in python for imaginary part we have to use j only \n",
    "other wise it give us error "
   ]
  },
  {
   "cell_type": "code",
   "execution_count": 25,
   "id": "080d9112",
   "metadata": {},
   "outputs": [
    {
     "name": "stdout",
     "output_type": "stream",
     "text": [
      "(2+3j)\n",
      "3.0\n",
      "2.0\n"
     ]
    }
   ],
   "source": [
    "a = 2+3j\n",
    "\n",
    "print(a)\n",
    "print(a.imag)\n",
    "print(a.real)"
   ]
  },
  {
   "cell_type": "markdown",
   "id": "4468c97f",
   "metadata": {},
   "source": [
    "Q7. What is the correct way to declare a variable named age and assign the value 25 to it?"
   ]
  },
  {
   "cell_type": "code",
   "execution_count": null,
   "id": "96a22e7a",
   "metadata": {},
   "outputs": [],
   "source": [
    "in python we can create variable name start with alphabets or undescore. it can not start with number or any special case charector except the underscore \n",
    "we do not need to give any type of data type it take data type while we assign an any information"
   ]
  },
  {
   "cell_type": "code",
   "execution_count": 20,
   "id": "28e92670",
   "metadata": {},
   "outputs": [
    {
     "name": "stdout",
     "output_type": "stream",
     "text": [
      "25\n"
     ]
    }
   ],
   "source": [
    "# simply write age and using assign oprator jsut assign value to it \n",
    "\n",
    "age = 25\n",
    "\n",
    "print(age)"
   ]
  },
  {
   "cell_type": "markdown",
   "id": "d9d82886",
   "metadata": {},
   "source": [
    "Q8. Declare a variable named price and assign the value 9.99 to it. What data type does this variable \n",
    "belong to?"
   ]
  },
  {
   "cell_type": "code",
   "execution_count": 21,
   "id": "8d5b4d0d",
   "metadata": {},
   "outputs": [],
   "source": [
    "price = 9.99"
   ]
  },
  {
   "cell_type": "code",
   "execution_count": 22,
   "id": "a1aa28b4",
   "metadata": {},
   "outputs": [
    {
     "name": "stdout",
     "output_type": "stream",
     "text": [
      "9.99 <class 'float'>\n"
     ]
    }
   ],
   "source": [
    "print(price , type(price))"
   ]
  },
  {
   "cell_type": "markdown",
   "id": "7309d335",
   "metadata": {},
   "source": [
    "Q9. Create a variable named name and assign your full name to it as a string. How would you print the \n",
    "value of this variable?"
   ]
  },
  {
   "cell_type": "code",
   "execution_count": 23,
   "id": "b58c2736",
   "metadata": {},
   "outputs": [],
   "source": [
    "name = \"Dhruv Panchal\""
   ]
  },
  {
   "cell_type": "code",
   "execution_count": 24,
   "id": "feb2752e",
   "metadata": {},
   "outputs": [
    {
     "name": "stdout",
     "output_type": "stream",
     "text": [
      "Dhruv Panchal\n"
     ]
    }
   ],
   "source": [
    "#  using print() -- this is a in built function in python \n",
    "#  this is help us to print anything in consol \n",
    "#  using this we print in consol\n",
    "\n",
    "print(name)"
   ]
  },
  {
   "cell_type": "markdown",
   "id": "a3098cb7",
   "metadata": {},
   "source": [
    "Q10. Given the string \"Hello, World!\", extract the substring \"World\"."
   ]
  },
  {
   "cell_type": "code",
   "execution_count": 2,
   "id": "ccd864c5",
   "metadata": {},
   "outputs": [],
   "source": [
    "my_string =  \"Hello, World!\""
   ]
  },
  {
   "cell_type": "code",
   "execution_count": 9,
   "id": "582c4485",
   "metadata": {},
   "outputs": [
    {
     "data": {
      "text/plain": [
       "13"
      ]
     },
     "execution_count": 9,
     "metadata": {},
     "output_type": "execute_result"
    }
   ],
   "source": [
    "len(my_string)"
   ]
  },
  {
   "cell_type": "code",
   "execution_count": 14,
   "id": "66dfee08",
   "metadata": {
    "scrolled": true
   },
   "outputs": [
    {
     "name": "stdout",
     "output_type": "stream",
     "text": [
      "World\n"
     ]
    }
   ],
   "source": [
    "my_sub_string = my_string[7:len(my_string)-1]\n",
    "\n",
    "print(my_sub_string)"
   ]
  },
  {
   "cell_type": "markdown",
   "id": "10838272",
   "metadata": {},
   "source": [
    "Q11. Create a variable named \"is_student\" and assign it a boolean value indicating whether you are \n",
    "currently a student or not."
   ]
  },
  {
   "cell_type": "code",
   "execution_count": 15,
   "id": "5eee7a7a",
   "metadata": {},
   "outputs": [],
   "source": [
    "is_student =  True"
   ]
  },
  {
   "cell_type": "code",
   "execution_count": 17,
   "id": "21a742ff",
   "metadata": {},
   "outputs": [
    {
     "name": "stdout",
     "output_type": "stream",
     "text": [
      "enter age :22\n",
      "True\n"
     ]
    }
   ],
   "source": [
    "age =int(input(\"enter age :\"))\n",
    "\n",
    "if age < 24 :\n",
    "    is_student = True\n",
    "else :\n",
    "    is_student = False\n",
    "    \n",
    "print(is_student)"
   ]
  }
 ],
 "metadata": {
  "kernelspec": {
   "display_name": "Python 3 (ipykernel)",
   "language": "python",
   "name": "python3"
  },
  "language_info": {
   "codemirror_mode": {
    "name": "ipython",
    "version": 3
   },
   "file_extension": ".py",
   "mimetype": "text/x-python",
   "name": "python",
   "nbconvert_exporter": "python",
   "pygments_lexer": "ipython3",
   "version": "3.9.7"
  }
 },
 "nbformat": 4,
 "nbformat_minor": 5
}
